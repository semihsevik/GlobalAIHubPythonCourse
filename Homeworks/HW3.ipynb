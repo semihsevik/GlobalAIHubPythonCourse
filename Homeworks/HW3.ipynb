{
 "cells": [
  {
   "cell_type": "code",
   "execution_count": 1,
   "metadata": {},
   "outputs": [],
   "source": [
    "import pandas as pd"
   ]
  },
  {
   "cell_type": "code",
   "execution_count": 2,
   "metadata": {},
   "outputs": [],
   "source": [
    "def calcPassingGrade(gradesTuple):\n",
    "    \"\"\"\n",
    "    m --> midterm , p --> project , f -- final\n",
    "    passing grade = midterm * (0.3) + project * (0.3) + final * (0.4)\n",
    "    \"\"\"\n",
    "    m,p,f = gradesTuple[::]\n",
    "    passingGrade = (m * .3 + p * .3 + f * .4)\n",
    "\n",
    "    return round(passingGrade,2)"
   ]
  },
  {
   "cell_type": "code",
   "execution_count": 3,
   "metadata": {},
   "outputs": [],
   "source": [
    "def createStudentsDict():\n",
    "    \"\"\" \n",
    "    names --> students name list\n",
    "    grades --> (midterm, project, final, passing grade) for each student.\n",
    "    \"\"\"\n",
    "    names = [input(f\"{i}. Student name: \") for i in range(1,6)]\n",
    "    grades = []\n",
    "    for i in range(5):\n",
    "        m,p,f = input(f\"Enter {names[i]}'s midterm, project and final grade (ex. --> 70-90-100): \").split(\"-\")\n",
    "        m,p,f = float(m), float(p), float(f)\n",
    "        grades.append((m,p,f))\n",
    "    studentsDict = {'Names' : names, 'Grades': grades}\n",
    "    return studentsDict"
   ]
  },
  {
   "cell_type": "code",
   "execution_count": 4,
   "metadata": {},
   "outputs": [],
   "source": [
    "def createFinalList(studentsDict):\n",
    "    \"\"\"\n",
    "    Function that calculates and sorts students' passing grades.\n",
    "    \"\"\"\n",
    "    finalList = []\n",
    "\n",
    "    for i in range(5):\n",
    "        names = studentsDict['Names'][i]\n",
    "        passingGrade = calcPassingGrade(studentsDict['Grades'][i])\n",
    "        finalList.append((passingGrade, names))\n",
    "\n",
    "    finalList.sort(reverse=True)\n",
    "\n",
    "    return finalList"
   ]
  },
  {
   "cell_type": "code",
   "execution_count": 14,
   "metadata": {},
   "outputs": [
    {
     "name": "stdout",
     "output_type": "stream",
     "text": [
      "1. Student name: John\n",
      "2. Student name: Adele\n",
      "3. Student name: Mary\n",
      "4. Student name: Pam\n",
      "5. Student name: Steven\n",
      "Enter John's midterm, project and final grade (ex. --> 70-90-100): 93-67-85\n",
      "Enter Adele's midterm, project and final grade (ex. --> 70-90-100): 45-50-100\n",
      "Enter Mary's midterm, project and final grade (ex. --> 70-90-100): 85-63-97\n",
      "Enter Pam's midterm, project and final grade (ex. --> 70-90-100): 100-77-83\n",
      "Enter Steven's midterm, project and final grade (ex. --> 70-90-100): 56-63-85\n"
     ]
    },
    {
     "data": {
      "text/html": [
       "<div>\n",
       "<style scoped>\n",
       "    .dataframe tbody tr th:only-of-type {\n",
       "        vertical-align: middle;\n",
       "    }\n",
       "\n",
       "    .dataframe tbody tr th {\n",
       "        vertical-align: top;\n",
       "    }\n",
       "\n",
       "    .dataframe thead th {\n",
       "        text-align: right;\n",
       "    }\n",
       "</style>\n",
       "<table border=\"1\" class=\"dataframe\">\n",
       "  <thead>\n",
       "    <tr style=\"text-align: right;\">\n",
       "      <th></th>\n",
       "      <th>Names</th>\n",
       "      <th>Grades</th>\n",
       "    </tr>\n",
       "  </thead>\n",
       "  <tbody>\n",
       "    <tr>\n",
       "      <th>0</th>\n",
       "      <td>John</td>\n",
       "      <td>(93.0, 67.0, 85.0)</td>\n",
       "    </tr>\n",
       "    <tr>\n",
       "      <th>1</th>\n",
       "      <td>Adele</td>\n",
       "      <td>(45.0, 50.0, 100.0)</td>\n",
       "    </tr>\n",
       "    <tr>\n",
       "      <th>2</th>\n",
       "      <td>Mary</td>\n",
       "      <td>(85.0, 63.0, 97.0)</td>\n",
       "    </tr>\n",
       "    <tr>\n",
       "      <th>3</th>\n",
       "      <td>Pam</td>\n",
       "      <td>(100.0, 77.0, 83.0)</td>\n",
       "    </tr>\n",
       "    <tr>\n",
       "      <th>4</th>\n",
       "      <td>Steven</td>\n",
       "      <td>(56.0, 63.0, 85.0)</td>\n",
       "    </tr>\n",
       "  </tbody>\n",
       "</table>\n",
       "</div>"
      ],
      "text/plain": [
       "    Names               Grades\n",
       "0    John   (93.0, 67.0, 85.0)\n",
       "1   Adele  (45.0, 50.0, 100.0)\n",
       "2    Mary   (85.0, 63.0, 97.0)\n",
       "3     Pam  (100.0, 77.0, 83.0)\n",
       "4  Steven   (56.0, 63.0, 85.0)"
      ]
     },
     "execution_count": 14,
     "metadata": {},
     "output_type": "execute_result"
    }
   ],
   "source": [
    "studentsDict = createStudentsDict()\n",
    "df = pd.DataFrame.from_dict(studentsDict) #For better visualization\n",
    "df"
   ]
  },
  {
   "cell_type": "code",
   "execution_count": 15,
   "metadata": {},
   "outputs": [
    {
     "name": "stdout",
     "output_type": "stream",
     "text": [
      "Pam --> Passing Grade: 86.3\n",
      "Mary --> Passing Grade: 83.2\n",
      "John --> Passing Grade: 82.0\n",
      "Steven --> Passing Grade: 69.7\n",
      "Adele --> Passing Grade: 68.5\n"
     ]
    }
   ],
   "source": [
    "studentList = createFinalList(studentsDict)\n",
    "for student in studentList : \n",
    "    print(f\"{student[1]} --> Passing Grade: {student[0]}\")"
   ]
  },
  {
   "cell_type": "code",
   "execution_count": null,
   "metadata": {},
   "outputs": [],
   "source": []
  }
 ],
 "metadata": {
  "kernelspec": {
   "display_name": "Python 3",
   "language": "python",
   "name": "python3"
  },
  "language_info": {
   "codemirror_mode": {
    "name": "ipython",
    "version": 3
   },
   "file_extension": ".py",
   "mimetype": "text/x-python",
   "name": "python",
   "nbconvert_exporter": "python",
   "pygments_lexer": "ipython3",
   "version": "3.7.3"
  }
 },
 "nbformat": 4,
 "nbformat_minor": 2
}
