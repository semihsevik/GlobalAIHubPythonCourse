{
 "cells": [
  {
   "cell_type": "code",
   "execution_count": 3,
   "metadata": {},
   "outputs": [
    {
     "name": "stdout",
     "output_type": "stream",
     "text": [
      "Username: GlobalAI\n",
      "Password: 123456\n",
      "Invalid username !\n",
      "Your chance to try: 2\n",
      "\n",
      "Username: Global\n",
      "Password: 123456\n",
      "Invalid username !\n",
      "Your chance to try: 1\n",
      "\n",
      "Username: GlobalAIHub\n",
      "Password: 123456\n",
      "Successfully logged in !\n"
     ]
    }
   ],
   "source": [
    "#Question 1\n",
    "\n",
    "validUsername = \"GlobalAIHub\"\n",
    "validPassword = \"123456\"\n",
    "\n",
    "numOfTry = 3\n",
    "\n",
    "while True:\n",
    "\n",
    "    username = input(\"Username: \")\n",
    "    password = input(\"Password: \")\n",
    "\n",
    "    if username == validUsername and password != validPassword :\n",
    "        print(\"Invalid password !\")\n",
    "        numOfTry -= 1\n",
    "        print(f\"Your chance to try: {numOfTry}\\n\")\n",
    "\n",
    "    elif username != validUsername and password == validPassword :\n",
    "        print(\"Invalid username !\")\n",
    "        numOfTry -= 1\n",
    "        print(f\"Your chance to try: {numOfTry}\\n\")\n",
    "\n",
    "    elif username != validUsername and password != validPassword:\n",
    "        print(\"Invalid username and password !\")\n",
    "        numOfTry -= 1\n",
    "        print(f\"Your chance to try: {numOfTry}\\n\")\n",
    "        \n",
    "    else:\n",
    "        print(\"Successfully logged in !\")\n",
    "        break\n",
    "\n",
    "    if numOfTry == 0:\n",
    "        print(\"Your chance to try is over !\")\n",
    "        break\n"
   ]
  },
  {
   "cell_type": "code",
   "execution_count": 4,
   "metadata": {},
   "outputs": [
    {
     "name": "stdout",
     "output_type": "stream",
     "text": [
      "Username: GlobalAI\n",
      "Password: 123\n",
      "Invalid username and password !\n",
      "Your chance to try: 2\n",
      "\n",
      "Username: GlobalAIHub\n",
      "Password: 1234\n",
      "Invalid password !\n",
      "Your chance to try: 1\n",
      "\n",
      "Username: GlobalAIHub\n",
      "Password: 123456\n",
      "Successfully logged in !\n"
     ]
    }
   ],
   "source": [
    "#Use Dictionary\n",
    "\n",
    "userInfo = {\n",
    "    \"username\" : \"GlobalAIHub\",\n",
    "    \"password\" : \"123456\"\n",
    "}\n",
    "\n",
    "numOfTry = 3\n",
    "\n",
    "while True:\n",
    "\n",
    "    username = input(\"Username: \")\n",
    "    password = input(\"Password: \")\n",
    "\n",
    "    if username == userInfo[\"username\"] and password != userInfo[\"password\"]:\n",
    "        print(\"Invalid password !\")\n",
    "        numOfTry -= 1\n",
    "        print(f\"Your chance to try: {numOfTry}\\n\")\n",
    "\n",
    "    elif username != userInfo[\"username\"] and password == userInfo[\"password\"]:\n",
    "        print(\"Invalid username !\")\n",
    "        numOfTry -= 1\n",
    "        print(f\"Your chance to try: {numOfTry}\\n\")\n",
    "\n",
    "    elif username != userInfo[\"username\"] and password != userInfo[\"password\"]:\n",
    "        print(\"Invalid username and password !\")\n",
    "        numOfTry -= 1\n",
    "        print(f\"Your chance to try: {numOfTry}\\n\")\n",
    "        \n",
    "    else:\n",
    "        print(\"Successfully logged in !\")\n",
    "        break\n",
    "\n",
    "    if numOfTry == 0:\n",
    "        print(\"Your chance to try is over !\")\n",
    "        break"
   ]
  },
  {
   "cell_type": "code",
   "execution_count": null,
   "metadata": {},
   "outputs": [],
   "source": []
  }
 ],
 "metadata": {
  "kernelspec": {
   "display_name": "Python 3",
   "language": "python",
   "name": "python3"
  },
  "language_info": {
   "codemirror_mode": {
    "name": "ipython",
    "version": 3
   },
   "file_extension": ".py",
   "mimetype": "text/x-python",
   "name": "python",
   "nbconvert_exporter": "python",
   "pygments_lexer": "ipython3",
   "version": "3.7.3"
  }
 },
 "nbformat": 4,
 "nbformat_minor": 2
}
