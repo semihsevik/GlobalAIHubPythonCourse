{
 "cells": [
  {
   "cell_type": "code",
   "execution_count": 1,
   "metadata": {},
   "outputs": [],
   "source": [
    "#Question 1\n",
    "\n",
    "def swapPositions(list):\n",
    "    n = len(list) \n",
    "\n",
    "    if (n % 2 != 0): \n",
    "        print(\"This program will not accept odd number.\")\n",
    "        exit()\n",
    "        \n",
    "    else:\n",
    "        half_n = int(n / 2)\n",
    "        temp_list = list.copy()\n",
    "        list[:half_n] = temp_list[half_n:] \n",
    "        list[half_n:] = temp_list[:half_n]\n",
    "\n",
    "        return list "
   ]
  },
  {
   "cell_type": "code",
   "execution_count": 2,
   "metadata": {},
   "outputs": [
    {
     "name": "stdout",
     "output_type": "stream",
     "text": [
      "[6, 7, 8, 9, 10, 1, 2, 3, 4, 5]\n"
     ]
    }
   ],
   "source": [
    "list = [1 , 2 , 3 , 4 , 5 , 6 , 7 , 8 , 9 , 10]\n",
    "print(swapPositions(list))"
   ]
  },
  {
   "cell_type": "code",
   "execution_count": 5,
   "metadata": {},
   "outputs": [
    {
     "name": "stdout",
     "output_type": "stream",
     "text": [
      "Enter a single digit integer: 7\n",
      "0\n",
      "2\n",
      "4\n",
      "6\n"
     ]
    }
   ],
   "source": [
    "#Question 2\n",
    "\n",
    "n = int(input(\"Enter a single digit integer: \"))\n",
    "if (len(str(n)) != 1):\n",
    "    raise Exception(\"Sorry, please enter a single digit integer.\")\n",
    "else:\n",
    "    for i in range(n + 1):\n",
    "        if i % 2 == 0:\n",
    "            print(i)"
   ]
  },
  {
   "cell_type": "code",
   "execution_count": null,
   "metadata": {},
   "outputs": [],
   "source": []
  }
 ],
 "metadata": {
  "kernelspec": {
   "display_name": "Python 3",
   "language": "python",
   "name": "python3"
  },
  "language_info": {
   "codemirror_mode": {
    "name": "ipython",
    "version": 3
   },
   "file_extension": ".py",
   "mimetype": "text/x-python",
   "name": "python",
   "nbconvert_exporter": "python",
   "pygments_lexer": "ipython3",
   "version": "3.7.3"
  }
 },
 "nbformat": 4,
 "nbformat_minor": 2
}
